{
 "cells": [
  {
   "cell_type": "markdown",
   "metadata": {
    "g.cell_uuid": "5cd347c0-3c02-4c42-bbdc-3f949883d8c5",
    "deletable": false
   },
   "source": [
    "This is an example notebook for using the auto grader with ipython notebooks and writing an assignment\n",
    "\n",
    "The first code cell in the notebook should be marked with `### AUTO GRADER` and import the auto grader as shown.  The file `auto grader.py` is symbolicly linked in this directory. \n",
    "\n",
    "This next cell marked with `### auto grader` will get removed when generating the student's version of the code.\n",
    "\n",
    "Note: the stripping of `auto grader` will strip any cell that mentions that as a single word, to be safe and prevent the code from the auto grader from leaking."
   ]
  },
  {
   "cell_type": "code",
   "execution_count": null,
   "metadata": {
    "g.cell_uuid": "2ebc9fba-fc73-44fd-bf04-69e602b71e2e",
    "deletable": false
   },
   "outputs": [],
   "source": [
    "def some_function(a, b):\n",
    "    \n",
    "    # the code between student start/end will get removed and replaced with an exception\n",
    "    \n",
    "    ### STUDENTS START\n",
    "    raise NotImplementedError()  # REPLACE ME\n",
    "    ### STUDENTS END\n",
    "    \n",
    "\n",
    "# this code is still given to the students\n",
    "assert some_function(1, 2) == 3\n",
    "    \n",
    "    \n",
    "# when running in the auto grader this code block will automattically capture any exceptions"
   ]
  },
  {
   "cell_type": "markdown",
   "metadata": {
    "g.cell_uuid": "417febd6-92db-470f-90b7-fa5cc05811ca",
    "deletable": false
   },
   "source": [
    "some written answers:\n",
    "\n",
    "<span style='color:red'>FILL IN</span>\n",
    "\n",
    "There is no support currently for removing written answers from text boxes, so we just marked those with FILL IN like the above.  Using the `ANSWERS START/END` blocks as shown around this item allows for `nb_written.py` to clip out this cell such that when grading the written answers, you can easily ignore any instructions that were included with the ipython notebook."
   ]
  }
 ],
 "metadata": {
  "kernelspec": {
   "display_name": "Python 3",
   "language": "python",
   "name": "python3"
  },
  "language_info": {
   "codemirror_mode": {
    "name": "ipython",
    "version": 3
   },
   "file_extension": ".py",
   "mimetype": "text/x-python",
   "name": "python",
   "nbconvert_exporter": "python",
   "pygments_lexer": "ipython3",
   "version": "3.6.3"
  }
 },
 "nbformat": 4,
 "nbformat_minor": 2
}