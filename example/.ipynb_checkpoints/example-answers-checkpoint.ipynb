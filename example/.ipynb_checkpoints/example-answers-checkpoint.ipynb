{
 "cells": [
  {
   "cell_type": "markdown",
   "metadata": {
    "g.cell_uuid": "5cd347c0-3c02-4c42-bbdc-3f949883d8c5"
   },
   "source": [
    "This is an example notebook for using the auto grader with ipython notebooks and writing an assignment\n",
    "\n",
    "The first code cell in the notebook should be marked with `### AUTO GRADER` and import the auto grader as shown.  The file `auto grader.py` is symbolicly linked in this directory. \n",
    "\n",
    "This next cell marked with `### auto grader` will get removed when generating the student's version of the code.\n",
    "\n",
    "Note: the stripping of `auto grader` will strip any cell that mentions that as a single word, to be safe and prevent the code from the auto grader from leaking."
   ]
  },
  {
   "cell_type": "code",
   "execution_count": 1,
   "metadata": {
    "g.cell_uuid": "15f14d17-70ff-453d-9ee8-17799df1a1c1"
   },
   "outputs": [],
   "source": [
    "### AUTOGRADER\n",
    "import autograder\n",
    "\n",
    "\n",
    "# set a timeout for a section of the notebook.  \n",
    "# We can reset this time throughout the notebook as it only interrupts the active cell instead of stopping\n",
    "# everything (good for training a ML model for 60 seconds and then running tests in an autograder)\n",
    "autograder.set_timeout(90)\n",
    "\n",
    "autograder.section('some_function')"
   ]
  },
  {
   "cell_type": "code",
   "execution_count": 2,
   "metadata": {
    "g.cell_uuid": "2ebc9fba-fc73-44fd-bf04-69e602b71e2e"
   },
   "outputs": [],
   "source": [
    "def some_function(a, b):\n",
    "    \n",
    "    # the code between student start/end will get removed and replaced with an exception\n",
    "    \n",
    "    ### STUDENTS START\n",
    "    return a + b\n",
    "    ### STUDENTS END\n",
    "    \n",
    "\n",
    "# this code is still given to the students\n",
    "assert some_function(1, 2) == 3\n",
    "    \n",
    "    \n",
    "# when running in the auto grader this code block will automattically capture any exceptions"
   ]
  },
  {
   "cell_type": "code",
   "execution_count": 3,
   "metadata": {
    "g.cell_uuid": "6d365961-6e71-4784-b24b-fd72824082a0"
   },
   "outputs": [
    {
     "name": "stdout",
     "output_type": "stream",
     "text": [
      "--------------------------------------------------\n",
      "Section: some_function\n",
      "Mark:\n",
      "* (-1) failed something\n",
      "--------------------------------------------------\n"
     ]
    }
   ],
   "source": [
    "### AUTOGRADER\n",
    "\n",
    "# code provided by the autograder does not get wrapped to capture exceptions, so do that ourselves\n",
    "# when calling the student's code\n",
    "\n",
    "try:\n",
    "    if some_function(4, 5) != 2:  # (this fails given the def of some_function)\n",
    "        # this mark function is specific to how we were processing the scores\n",
    "        # you probably want to define your own in autograder.py for whatever platform you are using\n",
    "        autograder.mark('* (-1) failed something')\n",
    "except:\n",
    "    autograder.track_exception()"
   ]
  },
  {
   "cell_type": "code",
   "execution_count": 4,
   "metadata": {
    "g.cell_uuid": "948b6aba-bd2c-465a-9c65-98098cac5108"
   },
   "outputs": [],
   "source": [
    "### AUTOGRADER\n",
    "### ANSWERS START"
   ]
  },
  {
   "cell_type": "markdown",
   "metadata": {
    "g.cell_uuid": "417febd6-92db-470f-90b7-fa5cc05811ca"
   },
   "source": [
    "some written answers:\n",
    "\n",
    "<span style='color:red'>FILL IN</span>\n",
    "\n",
    "There is no support currently for removing written answers from text boxes, so we just marked those with FILL IN like the above.  Using the `ANSWERS START/END` blocks as shown around this item allows for `nb_written.py` to clip out this cell such that when grading the written answers, you can easily ignore any instructions that were included with the ipython notebook."
   ]
  },
  {
   "cell_type": "code",
   "execution_count": 5,
   "metadata": {
    "g.cell_uuid": "ae229490-a874-4cc1-a87e-71b762ef4b96"
   },
   "outputs": [],
   "source": [
    "### AUTOGRADER\n",
    "### ANSWERS END"
   ]
  }
 ],
 "metadata": {
  "kernelspec": {
   "display_name": "Python 3",
   "language": "python",
   "name": "python3"
  },
  "language_info": {
   "codemirror_mode": {
    "name": "ipython",
    "version": 3
   },
   "file_extension": ".py",
   "mimetype": "text/x-python",
   "name": "python",
   "nbconvert_exporter": "python",
   "pygments_lexer": "ipython3",
   "version": "3.6.3"
  }
 },
 "nbformat": 4,
 "nbformat_minor": 2
}
